{
 "cells": [
  {
   "cell_type": "code",
   "execution_count": 1,
   "id": "5b70baa1",
   "metadata": {
    "execution": {
     "iopub.execute_input": "2023-06-14T19:38:54.229837Z",
     "iopub.status.busy": "2023-06-14T19:38:54.229204Z",
     "iopub.status.idle": "2023-06-14T19:38:54.233940Z",
     "shell.execute_reply": "2023-06-14T19:38:54.233125Z"
    },
    "papermill": {
     "duration": 0.014158,
     "end_time": "2023-06-14T19:38:54.239490",
     "exception": false,
     "start_time": "2023-06-14T19:38:54.225332",
     "status": "completed"
    },
    "tags": []
   },
   "outputs": [],
   "source": [
    "#!git clone -b main https://github.com/QJCcs/person_reID_IN.git\n"
   ]
  },
  {
   "cell_type": "code",
   "execution_count": 2,
   "id": "329adeb3",
   "metadata": {
    "execution": {
     "iopub.execute_input": "2023-06-14T19:38:54.245022Z",
     "iopub.status.busy": "2023-06-14T19:38:54.244772Z",
     "iopub.status.idle": "2023-06-14T19:38:54.255070Z",
     "shell.execute_reply": "2023-06-14T19:38:54.253919Z"
    },
    "papermill": {
     "duration": 0.01515,
     "end_time": "2023-06-14T19:38:54.257003",
     "exception": false,
     "start_time": "2023-06-14T19:38:54.241853",
     "status": "completed"
    },
    "tags": []
   },
   "outputs": [
    {
     "name": "stdout",
     "output_type": "stream",
     "text": [
      "/kaggle/working\n",
      "['__notebook__.ipynb']\n"
     ]
    }
   ],
   "source": [
    "import os\n",
    "print(os.getcwd())\n",
    "print(os.listdir(os.getcwd()))\n"
   ]
  },
  {
   "cell_type": "code",
   "execution_count": 3,
   "id": "281203a3",
   "metadata": {
    "execution": {
     "iopub.execute_input": "2023-06-14T19:38:54.262385Z",
     "iopub.status.busy": "2023-06-14T19:38:54.262142Z",
     "iopub.status.idle": "2023-06-14T19:38:54.276428Z",
     "shell.execute_reply": "2023-06-14T19:38:54.275324Z"
    },
    "papermill": {
     "duration": 0.019137,
     "end_time": "2023-06-14T19:38:54.278293",
     "exception": false,
     "start_time": "2023-06-14T19:38:54.259156",
     "status": "completed"
    },
    "tags": []
   },
   "outputs": [
    {
     "name": "stdout",
     "output_type": "stream",
     "text": [
      "current working directory is /kaggle/input/personreid\n",
      "['__notebook__.ipynb', 'model']\n",
      "/kaggle/input/personreid\n",
      "['train.py', 'losses.py', 'README.md', 'models', 'data_prepare.py']\n"
     ]
    }
   ],
   "source": [
    "\"\"\" change working directory \"\"\"\n",
    "import os\n",
    "\n",
    "if os.path.basename(os.getcwd()) == 'working':\n",
    "    if not os.path.exists('/kaggle/working/model'):\n",
    "        os.mkdir('/kaggle/working/model')\n",
    "    os.chdir('../input/personreid')\n",
    "print('current working directory is {}'.format(os.getcwd()))\n",
    "print(os.listdir('/kaggle/working'))\n",
    "print(os.getcwd())\n",
    "print(os.listdir(os.getcwd()))\n",
    "\n"
   ]
  },
  {
   "cell_type": "code",
   "execution_count": 4,
   "id": "926f8dcf",
   "metadata": {
    "execution": {
     "iopub.execute_input": "2023-06-14T19:38:54.284074Z",
     "iopub.status.busy": "2023-06-14T19:38:54.283433Z",
     "iopub.status.idle": "2023-06-14T19:40:02.544143Z",
     "shell.execute_reply": "2023-06-14T19:40:02.543027Z"
    },
    "papermill": {
     "duration": 68.265857,
     "end_time": "2023-06-14T19:40:02.546383",
     "exception": false,
     "start_time": "2023-06-14T19:38:54.280526",
     "status": "completed"
    },
    "tags": []
   },
   "outputs": [
    {
     "name": "stdout",
     "output_type": "stream",
     "text": [
      "数据集已创建，无需再次创建\r\n",
      "<function is_available at 0x7b7267b05510>\r\n",
      "Currently using GPU 0\r\n",
      "[Resize(size=(256, 128), interpolation=bicubic, max_size=None, antialias=warn), Pad(padding=10, fill=0, padding_mode=constant), RandomCrop(size=(256, 128), padding=None), RandomHorizontalFlip(p=0.5), ToTensor(), Normalize(mean=[0.485, 0.456, 0.406], std=[0.229, 0.224, 0.225])]\r\n",
      "Traceback (most recent call last):\r\n",
      "  File \"/kaggle/input/personreid/train.py\", line 201, in <module>\r\n",
      "    model = models.init_model(name='mobilenet_o', num_classes=len(class_names))\r\n",
      "  File \"/kaggle/input/personreid/models/__init__.py\", line 24, in init_model\r\n",
      "    raise KeyError(\"Unknown model: {}\".format(name))\r\n",
      "KeyError: 'Unknown model: mobilenet_o'\r\n"
     ]
    }
   ],
   "source": [
    "!python train.py --train_all"
   ]
  },
  {
   "cell_type": "code",
   "execution_count": 5,
   "id": "47cef5b0",
   "metadata": {
    "execution": {
     "iopub.execute_input": "2023-06-14T19:40:02.553354Z",
     "iopub.status.busy": "2023-06-14T19:40:02.553044Z",
     "iopub.status.idle": "2023-06-14T19:40:02.559259Z",
     "shell.execute_reply": "2023-06-14T19:40:02.558352Z"
    },
    "papermill": {
     "duration": 0.011945,
     "end_time": "2023-06-14T19:40:02.561247",
     "exception": false,
     "start_time": "2023-06-14T19:40:02.549302",
     "status": "completed"
    },
    "tags": []
   },
   "outputs": [
    {
     "name": "stdout",
     "output_type": "stream",
     "text": [
      "False\n"
     ]
    }
   ],
   "source": [
    "print(os.path.exists('/kaggle/wor'))"
   ]
  }
 ],
 "metadata": {
  "kernelspec": {
   "display_name": "Python 3",
   "language": "python",
   "name": "python3"
  },
  "language_info": {
   "codemirror_mode": {
    "name": "ipython",
    "version": 3
   },
   "file_extension": ".py",
   "mimetype": "text/x-python",
   "name": "python",
   "nbconvert_exporter": "python",
   "pygments_lexer": "ipython3",
   "version": "3.10.10"
  },
  "papermill": {
   "default_parameters": {},
   "duration": 83.670248,
   "end_time": "2023-06-14T19:40:03.183725",
   "environment_variables": {},
   "exception": null,
   "input_path": "__notebook__.ipynb",
   "output_path": "__notebook__.ipynb",
   "parameters": {},
   "start_time": "2023-06-14T19:38:39.513477",
   "version": "2.4.0"
  }
 },
 "nbformat": 4,
 "nbformat_minor": 5
}
