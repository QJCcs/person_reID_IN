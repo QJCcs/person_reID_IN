{
 "cells": [
  {
   "cell_type": "markdown",
   "id": "984a3f9b",
   "metadata": {
    "execution": {
     "iopub.execute_input": "2023-06-13T08:11:14.420179Z",
     "iopub.status.busy": "2023-06-13T08:11:14.419472Z",
     "iopub.status.idle": "2023-06-13T08:11:38.815369Z",
     "shell.execute_reply": "2023-06-13T08:11:38.814275Z",
     "shell.execute_reply.started": "2023-06-13T08:11:14.420130Z"
    },
    "papermill": {
     "duration": 0.002733,
     "end_time": "2023-06-17T05:20:04.188657",
     "exception": false,
     "start_time": "2023-06-17T05:20:04.185924",
     "status": "completed"
    },
    "tags": []
   },
   "source": [
    "#!git clone -b main https://github.com/QJCcs/person_reID_IN.git\n"
   ]
  },
  {
   "cell_type": "code",
   "execution_count": null,
   "id": "aa02a915",
   "metadata": {
    "papermill": {
     "duration": 0.002144,
     "end_time": "2023-06-17T05:20:04.193293",
     "exception": false,
     "start_time": "2023-06-17T05:20:04.191149",
     "status": "completed"
    },
    "tags": []
   },
   "outputs": [],
   "source": []
  },
  {
   "cell_type": "code",
   "execution_count": 1,
   "id": "1563e7ed",
   "metadata": {
    "execution": {
     "iopub.execute_input": "2023-06-17T05:20:04.199714Z",
     "iopub.status.busy": "2023-06-17T05:20:04.199053Z",
     "iopub.status.idle": "2023-06-17T05:20:04.213939Z",
     "shell.execute_reply": "2023-06-17T05:20:04.212664Z"
    },
    "papermill": {
     "duration": 0.021252,
     "end_time": "2023-06-17T05:20:04.216786",
     "exception": false,
     "start_time": "2023-06-17T05:20:04.195534",
     "status": "completed"
    },
    "tags": []
   },
   "outputs": [
    {
     "name": "stdout",
     "output_type": "stream",
     "text": [
      "/kaggle/working\n",
      "['__notebook__.ipynb']\n"
     ]
    }
   ],
   "source": [
    "import os\n",
    "print(os.getcwd())\n",
    "print(os.listdir(os.getcwd()))\n"
   ]
  },
  {
   "cell_type": "code",
   "execution_count": 2,
   "id": "4aeb5476",
   "metadata": {
    "execution": {
     "iopub.execute_input": "2023-06-17T05:20:04.223964Z",
     "iopub.status.busy": "2023-06-17T05:20:04.223125Z",
     "iopub.status.idle": "2023-06-17T05:20:04.235126Z",
     "shell.execute_reply": "2023-06-17T05:20:04.233653Z"
    },
    "papermill": {
     "duration": 0.017362,
     "end_time": "2023-06-17T05:20:04.237223",
     "exception": false,
     "start_time": "2023-06-17T05:20:04.219861",
     "status": "completed"
    },
    "tags": []
   },
   "outputs": [
    {
     "name": "stdout",
     "output_type": "stream",
     "text": [
      "current working directory is /kaggle/input/personreid\n",
      "['__notebook__.ipynb', 'model']\n",
      "/kaggle/input/personreid\n",
      "['train.py', 'losses.py', 'README.md', 'models', 'data_prepare.py']\n"
     ]
    }
   ],
   "source": [
    "\"\"\" change working directory \"\"\"\n",
    "import os\n",
    "\n",
    "if os.path.basename(os.getcwd()) == 'working':\n",
    "    if not os.path.exists('/kaggle/working/model'):\n",
    "        os.mkdir('/kaggle/working/model')\n",
    "    os.chdir('../input/personreid')\n",
    "print('current working directory is {}'.format(os.getcwd()))\n",
    "print(os.listdir('/kaggle/working'))\n",
    "print(os.getcwd())\n",
    "print(os.listdir(os.getcwd()))\n",
    "\n"
   ]
  },
  {
   "cell_type": "code",
   "execution_count": 3,
   "id": "0b5421fd",
   "metadata": {
    "execution": {
     "iopub.execute_input": "2023-06-17T05:20:04.243576Z",
     "iopub.status.busy": "2023-06-17T05:20:04.242872Z",
     "iopub.status.idle": "2023-06-17T06:22:47.706238Z",
     "shell.execute_reply": "2023-06-17T06:22:47.705149Z"
    },
    "papermill": {
     "duration": 3763.469072,
     "end_time": "2023-06-17T06:22:47.708719",
     "exception": false,
     "start_time": "2023-06-17T05:20:04.239647",
     "status": "completed"
    },
    "tags": []
   },
   "outputs": [
    {
     "name": "stdout",
     "output_type": "stream",
     "text": [
      "数据集已创建，无需再次创建\r\n",
      "<function is_available at 0x7bb740309510>\r\n",
      "Currently using GPU 0\r\n",
      "[Resize(size=(256, 128), interpolation=bicubic, max_size=None, antialias=warn), Pad(padding=10, fill=0, padding_mode=constant), RandomCrop(size=(256, 128), padding=None), RandomHorizontalFlip(p=0.5), ToTensor(), Normalize(mean=[0.485, 0.456, 0.406], std=[0.229, 0.224, 0.225])]\r\n",
      "Downloading: \"https://download.pytorch.org/models/resnet50-19c8e357.pth\" to /root/.cache/torch/hub/checkpoints/resnet50-19c8e357.pth\r\n",
      "100%|██████████████████████████████████████| 97.8M/97.8M [00:01<00:00, 78.7MB/s]\r\n",
      "Initialized model with pretrained weights from https://download.pytorch.org/models/resnet50-19c8e357.pth\r\n",
      "Epoch 0/69\r\n",
      "----------\r\n",
      "train Loss: 0.0984 Acc: 0.1802\r\n",
      "val Loss: 0.1145 Acc: 0.0000\r\n",
      "\r\n",
      "Epoch 1/69\r\n",
      "----------\r\n",
      "train Loss: 0.0540 Acc: 0.5473\r\n",
      "val Loss: 0.1146 Acc: 0.0000\r\n",
      "\r\n",
      "Epoch 2/69\r\n",
      "----------\r\n",
      "train Loss: 0.0389 Acc: 0.7387\r\n",
      "val Loss: 0.1148 Acc: 0.0000\r\n",
      "\r\n",
      "Epoch 3/69\r\n",
      "----------\r\n",
      "train Loss: 0.0323 Acc: 0.8340\r\n",
      "val Loss: 0.1151 Acc: 0.0001\r\n",
      "\r\n",
      "Epoch 4/69\r\n",
      "----------\r\n",
      "train Loss: 0.0287 Acc: 0.8885\r\n",
      "val Loss: 0.1152 Acc: 0.0001\r\n",
      "\r\n",
      "Epoch 5/69\r\n",
      "----------\r\n",
      "train Loss: 0.0266 Acc: 0.9247\r\n",
      "val Loss: 0.1153 Acc: 0.0004\r\n",
      "\r\n",
      "Epoch 6/69\r\n",
      "----------\r\n",
      "train Loss: 0.0253 Acc: 0.9472\r\n",
      "val Loss: 0.1153 Acc: 0.0001\r\n",
      "\r\n",
      "Epoch 7/69\r\n",
      "----------\r\n",
      "train Loss: 0.0243 Acc: 0.9614\r\n",
      "val Loss: 0.1157 Acc: 0.0003\r\n",
      "\r\n",
      "Epoch 8/69\r\n",
      "----------\r\n",
      "train Loss: 0.0237 Acc: 0.9717\r\n",
      "val Loss: 0.1157 Acc: 0.0002\r\n",
      "\r\n",
      "Epoch 9/69\r\n",
      "----------\r\n",
      "train Loss: 0.0232 Acc: 0.9776\r\n",
      "val Loss: 0.1158 Acc: 0.0003\r\n",
      "Traceback (most recent call last):\r\n",
      "  File \"/kaggle/input/personreid/train.py\", line 230, in <module>\r\n",
      "    model = train_model(model, criterion, optimizer_ft, exp_lr_scheduler,\r\n",
      "  File \"/kaggle/input/personreid/train.py\", line 166, in train_model\r\n",
      "    save_network(model, epoch)\r\n",
      "  File \"/kaggle/input/personreid/train.py\", line 191, in save_network\r\n",
      "    torch.save(network.cpu().state_dict(), save_path)\r\n",
      "  File \"/opt/conda/lib/python3.10/site-packages/torch/serialization.py\", line 440, in save\r\n",
      "    with _open_zipfile_writer(f) as opened_zipfile:\r\n",
      "  File \"/opt/conda/lib/python3.10/site-packages/torch/serialization.py\", line 315, in _open_zipfile_writer\r\n",
      "    return container(name_or_buffer)\r\n",
      "  File \"/opt/conda/lib/python3.10/site-packages/torch/serialization.py\", line 288, in __init__\r\n",
      "    super().__init__(torch._C.PyTorchFileWriter(str(name)))\r\n",
      "RuntimeError: File ../model/net_9.pth cannot be opened.\r\n"
     ]
    }
   ],
   "source": [
    "!python train.py --train_all"
   ]
  },
  {
   "cell_type": "code",
   "execution_count": 4,
   "id": "69ca72b1",
   "metadata": {
    "execution": {
     "iopub.execute_input": "2023-06-17T06:22:47.722495Z",
     "iopub.status.busy": "2023-06-17T06:22:47.721579Z",
     "iopub.status.idle": "2023-06-17T06:22:47.727504Z",
     "shell.execute_reply": "2023-06-17T06:22:47.726535Z"
    },
    "papermill": {
     "duration": 0.014817,
     "end_time": "2023-06-17T06:22:47.729479",
     "exception": false,
     "start_time": "2023-06-17T06:22:47.714662",
     "status": "completed"
    },
    "tags": []
   },
   "outputs": [
    {
     "name": "stdout",
     "output_type": "stream",
     "text": [
      "False\n"
     ]
    }
   ],
   "source": [
    "print(os.path.exists('/kaggle/wor'))"
   ]
  }
 ],
 "metadata": {
  "kernelspec": {
   "display_name": "Python 3",
   "language": "python",
   "name": "python3"
  },
  "language_info": {
   "codemirror_mode": {
    "name": "ipython",
    "version": 3
   },
   "file_extension": ".py",
   "mimetype": "text/x-python",
   "name": "python",
   "nbconvert_exporter": "python",
   "pygments_lexer": "ipython3",
   "version": "3.10.10"
  },
  "papermill": {
   "default_parameters": {},
   "duration": 3775.329911,
   "end_time": "2023-06-17T06:22:48.367257",
   "environment_variables": {},
   "exception": null,
   "input_path": "__notebook__.ipynb",
   "output_path": "__notebook__.ipynb",
   "parameters": {},
   "start_time": "2023-06-17T05:19:53.037346",
   "version": "2.4.0"
  }
 },
 "nbformat": 4,
 "nbformat_minor": 5
}
