{
 "cells": [
  {
   "cell_type": "code",
   "execution_count": 1,
   "id": "07075551",
   "metadata": {
    "execution": {
     "iopub.execute_input": "2023-06-13T12:03:11.882712Z",
     "iopub.status.busy": "2023-06-13T12:03:11.882273Z",
     "iopub.status.idle": "2023-06-13T12:03:11.887409Z",
     "shell.execute_reply": "2023-06-13T12:03:11.886485Z"
    },
    "papermill": {
     "duration": 0.01366,
     "end_time": "2023-06-13T12:03:11.891597",
     "exception": false,
     "start_time": "2023-06-13T12:03:11.877937",
     "status": "completed"
    },
    "tags": []
   },
   "outputs": [],
   "source": [
    "#!git clone -b main https://github.com/QJCcs/person_reID_IN.git\n"
   ]
  },
  {
   "cell_type": "code",
   "execution_count": 2,
   "id": "c81b8f9d",
   "metadata": {
    "execution": {
     "iopub.execute_input": "2023-06-13T12:03:11.897753Z",
     "iopub.status.busy": "2023-06-13T12:03:11.896948Z",
     "iopub.status.idle": "2023-06-13T12:03:11.907614Z",
     "shell.execute_reply": "2023-06-13T12:03:11.906765Z"
    },
    "papermill": {
     "duration": 0.015972,
     "end_time": "2023-06-13T12:03:11.909906",
     "exception": false,
     "start_time": "2023-06-13T12:03:11.893934",
     "status": "completed"
    },
    "tags": []
   },
   "outputs": [
    {
     "name": "stdout",
     "output_type": "stream",
     "text": [
      "/kaggle/working\n",
      "['__notebook__.ipynb']\n"
     ]
    }
   ],
   "source": [
    "import os\n",
    "print(os.getcwd())\n",
    "print(os.listdir(os.getcwd()))"
   ]
  },
  {
   "cell_type": "code",
   "execution_count": 3,
   "id": "2c484a3f",
   "metadata": {
    "execution": {
     "iopub.execute_input": "2023-06-13T12:03:11.916084Z",
     "iopub.status.busy": "2023-06-13T12:03:11.915291Z",
     "iopub.status.idle": "2023-06-13T12:03:11.928296Z",
     "shell.execute_reply": "2023-06-13T12:03:11.927079Z"
    },
    "papermill": {
     "duration": 0.018071,
     "end_time": "2023-06-13T12:03:11.930365",
     "exception": false,
     "start_time": "2023-06-13T12:03:11.912294",
     "status": "completed"
    },
    "tags": []
   },
   "outputs": [
    {
     "name": "stdout",
     "output_type": "stream",
     "text": [
      "current working directory is /kaggle/input/personreid\n",
      "/kaggle/input/personreid\n",
      "['train.py', 'losses.py', 'README.md', 'models', 'data_prepare.py']\n"
     ]
    }
   ],
   "source": [
    "\"\"\" change working directory \"\"\"\n",
    "import os\n",
    "\n",
    "if os.path.basename(os.getcwd()) == 'working':\n",
    "    os.chdir('../input/personreid')\n",
    "print('current working directory is {}'.format(os.getcwd()))\n",
    "\n",
    "print(os.getcwd())\n",
    "print(os.listdir(os.getcwd()))\n",
    "\n"
   ]
  },
  {
   "cell_type": "code",
   "execution_count": 4,
   "id": "2a219bf7",
   "metadata": {
    "execution": {
     "iopub.execute_input": "2023-06-13T12:03:11.936537Z",
     "iopub.status.busy": "2023-06-13T12:03:11.935738Z",
     "iopub.status.idle": "2023-06-13T12:12:27.452070Z",
     "shell.execute_reply": "2023-06-13T12:12:27.450903Z"
    },
    "papermill": {
     "duration": 555.521834,
     "end_time": "2023-06-13T12:12:27.454575",
     "exception": false,
     "start_time": "2023-06-13T12:03:11.932741",
     "status": "completed"
    },
    "tags": []
   },
   "outputs": [
    {
     "name": "stdout",
     "output_type": "stream",
     "text": [
      "数据集已创建，无需再次创建\r\n",
      "<function is_available at 0x7b84c7b09510>\r\n",
      "Currently using GPU 0\r\n",
      "[Resize(size=(256, 128), interpolation=bicubic, max_size=None, antialias=warn), Pad(padding=10, fill=0, padding_mode=constant), RandomCrop(size=(256, 128), padding=None), RandomHorizontalFlip(p=0.5), ToTensor(), Normalize(mean=[0.485, 0.456, 0.406], std=[0.229, 0.224, 0.225])]\r\n",
      "Epoch 0/99\r\n",
      "----------\r\n",
      "train Loss: 0.1161 Acc: 0.0401\r\n",
      "val Loss: 0.1114 Acc: 0.0009\r\n",
      "\r\n",
      "Epoch 1/99\r\n",
      "----------\r\n",
      "train Loss: 0.0845 Acc: 0.1948\r\n",
      "val Loss: 0.1113 Acc: 0.0005\r\n",
      "Traceback (most recent call last):\r\n",
      "  File \"/kaggle/input/personreid/train.py\", line 232, in <module>\r\n",
      "    model = train_model(model, criterion, optimizer_ft, exp_lr_scheduler,\r\n",
      "  File \"/kaggle/input/personreid/train.py\", line 166, in train_model\r\n",
      "    save_network(model, epoch)\r\n",
      "  File \"/kaggle/input/personreid/train.py\", line 191, in save_network\r\n",
      "    torch.save(network.cpu().state_dict(), save_path)\r\n",
      "  File \"/opt/conda/lib/python3.10/site-packages/torch/serialization.py\", line 440, in save\r\n",
      "    with _open_zipfile_writer(f) as opened_zipfile:\r\n",
      "  File \"/opt/conda/lib/python3.10/site-packages/torch/serialization.py\", line 315, in _open_zipfile_writer\r\n",
      "    return container(name_or_buffer)\r\n",
      "  File \"/opt/conda/lib/python3.10/site-packages/torch/serialization.py\", line 288, in __init__\r\n",
      "    super().__init__(torch._C.PyTorchFileWriter(str(name)))\r\n",
      "RuntimeError: Parent directory /kernel/working/model does not exist.\r\n"
     ]
    }
   ],
   "source": [
    "!python train.py --train_all"
   ]
  },
  {
   "cell_type": "code",
   "execution_count": 5,
   "id": "f6211e3e",
   "metadata": {
    "execution": {
     "iopub.execute_input": "2023-06-13T12:12:27.463088Z",
     "iopub.status.busy": "2023-06-13T12:12:27.462123Z",
     "iopub.status.idle": "2023-06-13T12:12:27.468234Z",
     "shell.execute_reply": "2023-06-13T12:12:27.466948Z"
    },
    "papermill": {
     "duration": 0.01253,
     "end_time": "2023-06-13T12:12:27.470319",
     "exception": false,
     "start_time": "2023-06-13T12:12:27.457789",
     "status": "completed"
    },
    "tags": []
   },
   "outputs": [
    {
     "name": "stdout",
     "output_type": "stream",
     "text": [
      "over\n"
     ]
    }
   ],
   "source": [
    "print('over')"
   ]
  }
 ],
 "metadata": {
  "kernelspec": {
   "display_name": "Python 3",
   "language": "python",
   "name": "python3"
  },
  "language_info": {
   "codemirror_mode": {
    "name": "ipython",
    "version": 3
   },
   "file_extension": ".py",
   "mimetype": "text/x-python",
   "name": "python",
   "nbconvert_exporter": "python",
   "pygments_lexer": "ipython3",
   "version": "3.10.10"
  },
  "papermill": {
   "default_parameters": {},
   "duration": 567.912109,
   "end_time": "2023-06-13T12:12:28.095553",
   "environment_variables": {},
   "exception": null,
   "input_path": "__notebook__.ipynb",
   "output_path": "__notebook__.ipynb",
   "parameters": {},
   "start_time": "2023-06-13T12:03:00.183444",
   "version": "2.4.0"
  }
 },
 "nbformat": 4,
 "nbformat_minor": 5
}
