{
 "cells": [
  {
   "cell_type": "markdown",
   "id": "7eda34d7",
   "metadata": {
    "execution": {
     "iopub.execute_input": "2023-06-13T08:11:14.420179Z",
     "iopub.status.busy": "2023-06-13T08:11:14.419472Z",
     "iopub.status.idle": "2023-06-13T08:11:38.815369Z",
     "shell.execute_reply": "2023-06-13T08:11:38.814275Z",
     "shell.execute_reply.started": "2023-06-13T08:11:14.420130Z"
    },
    "papermill": {
     "duration": 0.002852,
     "end_time": "2023-06-19T05:30:05.532229",
     "exception": false,
     "start_time": "2023-06-19T05:30:05.529377",
     "status": "completed"
    },
    "tags": []
   },
   "source": [
    "#!git clone -b main https://github.com/QJCcs/person_reID_IN.git\n"
   ]
  },
  {
   "cell_type": "code",
   "execution_count": null,
   "id": "78671a31",
   "metadata": {
    "papermill": {
     "duration": 0.002187,
     "end_time": "2023-06-19T05:30:05.536929",
     "exception": false,
     "start_time": "2023-06-19T05:30:05.534742",
     "status": "completed"
    },
    "tags": []
   },
   "outputs": [],
   "source": []
  },
  {
   "cell_type": "code",
   "execution_count": 1,
   "id": "382064ad",
   "metadata": {
    "execution": {
     "iopub.execute_input": "2023-06-19T05:30:05.543467Z",
     "iopub.status.busy": "2023-06-19T05:30:05.542532Z",
     "iopub.status.idle": "2023-06-19T05:30:05.557419Z",
     "shell.execute_reply": "2023-06-19T05:30:05.556074Z"
    },
    "papermill": {
     "duration": 0.020916,
     "end_time": "2023-06-19T05:30:05.560070",
     "exception": false,
     "start_time": "2023-06-19T05:30:05.539154",
     "status": "completed"
    },
    "tags": []
   },
   "outputs": [
    {
     "name": "stdout",
     "output_type": "stream",
     "text": [
      "/kaggle/working\n",
      "['__notebook__.ipynb']\n"
     ]
    }
   ],
   "source": [
    "import os\n",
    "print(os.getcwd())\n",
    "print(os.listdir(os.getcwd()))\n"
   ]
  },
  {
   "cell_type": "code",
   "execution_count": 2,
   "id": "90d3d527",
   "metadata": {
    "execution": {
     "iopub.execute_input": "2023-06-19T05:30:05.566072Z",
     "iopub.status.busy": "2023-06-19T05:30:05.565615Z",
     "iopub.status.idle": "2023-06-19T05:30:05.576237Z",
     "shell.execute_reply": "2023-06-19T05:30:05.574790Z"
    },
    "papermill": {
     "duration": 0.015639,
     "end_time": "2023-06-19T05:30:05.578182",
     "exception": false,
     "start_time": "2023-06-19T05:30:05.562543",
     "status": "completed"
    },
    "tags": []
   },
   "outputs": [
    {
     "name": "stdout",
     "output_type": "stream",
     "text": [
      "current working directory is /kaggle/input/personreid\n",
      "['model', '__notebook__.ipynb']\n",
      "/kaggle/input/personreid\n",
      "['train.py', 'losses.py', 'README.md', 'models', 'data_prepare.py']\n"
     ]
    }
   ],
   "source": [
    "\"\"\" change working directory \"\"\"\n",
    "import os\n",
    "\n",
    "if os.path.basename(os.getcwd()) == 'working':\n",
    "    if not os.path.exists('/kaggle/working/model'):\n",
    "        os.mkdir('/kaggle/working/model')\n",
    "    os.chdir('../input/personreid')\n",
    "print('current working directory is {}'.format(os.getcwd()))\n",
    "print(os.listdir('/kaggle/working'))\n",
    "print(os.getcwd())\n",
    "print(os.listdir(os.getcwd()))\n",
    "\n"
   ]
  },
  {
   "cell_type": "code",
   "execution_count": 3,
   "id": "9a115109",
   "metadata": {
    "execution": {
     "iopub.execute_input": "2023-06-19T05:30:05.585180Z",
     "iopub.status.busy": "2023-06-19T05:30:05.584165Z",
     "iopub.status.idle": "2023-06-19T05:43:49.181065Z",
     "shell.execute_reply": "2023-06-19T05:43:49.179938Z"
    },
    "papermill": {
     "duration": 823.602806,
     "end_time": "2023-06-19T05:43:49.183460",
     "exception": false,
     "start_time": "2023-06-19T05:30:05.580654",
     "status": "completed"
    },
    "tags": []
   },
   "outputs": [
    {
     "name": "stdout",
     "output_type": "stream",
     "text": [
      "数据集已创建，无需再次创建\r\n",
      "<function is_available at 0x7e924f909510>\r\n",
      "Currently using GPU 0\r\n",
      "[Resize(size=(256, 128), interpolation=bicubic, max_size=None, antialias=warn), Pad(padding=10, fill=0, padding_mode=constant), RandomCrop(size=(256, 128), padding=None), RandomHorizontalFlip(p=0.5), ToTensor(), Normalize(mean=[0.485, 0.456, 0.406], std=[0.229, 0.224, 0.225])]\r\n",
      "Downloading: \"https://download.pytorch.org/models/resnet50-19c8e357.pth\" to /root/.cache/torch/hub/checkpoints/resnet50-19c8e357.pth\r\n",
      "100%|███████████████████████████████████████| 97.8M/97.8M [00:00<00:00, 240MB/s]\r\n",
      "Initialized model with pretrained weights from https://download.pytorch.org/models/resnet50-19c8e357.pth\r\n",
      "Epoch 0/69\r\n",
      "----------\r\n",
      "train Loss: 0.0705 Acc: 0.2974\r\n",
      "val Loss: 0.1330 Acc: 0.0000\r\n",
      "\r\n",
      "Epoch 1/69\r\n",
      "----------\r\n",
      "train Loss: 0.0304 Acc: 0.7927\r\n",
      "val Loss: 0.1330 Acc: 0.0000\r\n",
      "\r\n",
      "Epoch 2/69\r\n",
      "----------\r\n",
      "train Loss: 0.0225 Acc: 0.9339\r\n",
      "val Loss: 0.1332 Acc: 0.0000\r\n",
      "\r\n",
      "Epoch 3/69\r\n",
      "----------\r\n",
      "train Loss: 0.0198 Acc: 0.9778\r\n",
      "val Loss: 0.1332 Acc: 0.0000\r\n",
      "\r\n",
      "Epoch 4/69\r\n",
      "----------\r\n",
      "train Loss: 0.0187 Acc: 0.9892\r\n",
      "val Loss: 0.1332 Acc: 0.0000\r\n",
      "\r\n",
      "Epoch 5/69\r\n",
      "----------\r\n",
      "train Loss: 0.0180 Acc: 0.9939\r\n",
      "val Loss: 0.1331 Acc: 0.0000\r\n",
      "\r\n",
      "Epoch 6/69\r\n",
      "----------\r\n",
      "train Loss: 0.0177 Acc: 0.9957\r\n",
      "val Loss: 0.1330 Acc: 0.0000\r\n",
      "\r\n",
      "Epoch 7/69\r\n",
      "----------\r\n",
      "train Loss: 0.0173 Acc: 0.9975\r\n",
      "val Loss: 0.1331 Acc: 0.0000\r\n",
      "\r\n",
      "Epoch 8/69\r\n",
      "----------\r\n",
      "train Loss: 0.0172 Acc: 0.9978\r\n",
      "val Loss: 0.1331 Acc: 0.0000\r\n",
      "\r\n",
      "Epoch 9/69\r\n",
      "----------\r\n",
      "train Loss: 0.0171 Acc: 0.9978\r\n",
      "val Loss: 0.1331 Acc: 0.0000\r\n",
      "Traceback (most recent call last):\r\n",
      "  File \"/kaggle/input/personreid/train.py\", line 230, in <module>\r\n",
      "    model = train_model(model, criterion, optimizer_ft, exp_lr_scheduler,\r\n",
      "  File \"/kaggle/input/personreid/train.py\", line 166, in train_model\r\n",
      "    save_network(model, epoch)\r\n",
      "  File \"/kaggle/input/personreid/train.py\", line 191, in save_network\r\n",
      "    torch.save(network.cpu().state_dict(), save_path)\r\n",
      "  File \"/opt/conda/lib/python3.10/site-packages/torch/serialization.py\", line 440, in save\r\n",
      "    with _open_zipfile_writer(f) as opened_zipfile:\r\n",
      "  File \"/opt/conda/lib/python3.10/site-packages/torch/serialization.py\", line 315, in _open_zipfile_writer\r\n",
      "    return container(name_or_buffer)\r\n",
      "  File \"/opt/conda/lib/python3.10/site-packages/torch/serialization.py\", line 288, in __init__\r\n",
      "    super().__init__(torch._C.PyTorchFileWriter(str(name)))\r\n",
      "RuntimeError: File ../model/net_9.pth cannot be opened.\r\n"
     ]
    }
   ],
   "source": [
    "!python train.py --train_all"
   ]
  },
  {
   "cell_type": "code",
   "execution_count": 4,
   "id": "842726e6",
   "metadata": {
    "execution": {
     "iopub.execute_input": "2023-06-19T05:43:49.196290Z",
     "iopub.status.busy": "2023-06-19T05:43:49.195511Z",
     "iopub.status.idle": "2023-06-19T05:43:49.201418Z",
     "shell.execute_reply": "2023-06-19T05:43:49.200370Z"
    },
    "papermill": {
     "duration": 0.013987,
     "end_time": "2023-06-19T05:43:49.203290",
     "exception": false,
     "start_time": "2023-06-19T05:43:49.189303",
     "status": "completed"
    },
    "tags": []
   },
   "outputs": [
    {
     "name": "stdout",
     "output_type": "stream",
     "text": [
      "False\n"
     ]
    }
   ],
   "source": [
    "print(os.path.exists('/kaggle/wor'))"
   ]
  }
 ],
 "metadata": {
  "kernelspec": {
   "display_name": "Python 3",
   "language": "python",
   "name": "python3"
  },
  "language_info": {
   "codemirror_mode": {
    "name": "ipython",
    "version": 3
   },
   "file_extension": ".py",
   "mimetype": "text/x-python",
   "name": "python",
   "nbconvert_exporter": "python",
   "pygments_lexer": "ipython3",
   "version": "3.10.10"
  },
  "papermill": {
   "default_parameters": {},
   "duration": 835.510404,
   "end_time": "2023-06-19T05:43:49.833025",
   "environment_variables": {},
   "exception": null,
   "input_path": "__notebook__.ipynb",
   "output_path": "__notebook__.ipynb",
   "parameters": {},
   "start_time": "2023-06-19T05:29:54.322621",
   "version": "2.4.0"
  }
 },
 "nbformat": 4,
 "nbformat_minor": 5
}
