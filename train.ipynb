{
 "cells": [
  {
   "cell_type": "code",
   "execution_count": 1,
   "id": "4e9c0031",
   "metadata": {
    "execution": {
     "iopub.execute_input": "2023-06-13T09:52:55.832646Z",
     "iopub.status.busy": "2023-06-13T09:52:55.831830Z",
     "iopub.status.idle": "2023-06-13T09:52:55.837610Z",
     "shell.execute_reply": "2023-06-13T09:52:55.836626Z"
    },
    "papermill": {
     "duration": 0.015323,
     "end_time": "2023-06-13T09:52:55.842418",
     "exception": false,
     "start_time": "2023-06-13T09:52:55.827095",
     "status": "completed"
    },
    "tags": []
   },
   "outputs": [],
   "source": [
    "#!git clone -b main https://github.com/QJCcs/person_reID_IN.git\n"
   ]
  },
  {
   "cell_type": "code",
   "execution_count": 2,
   "id": "7a1c75f4",
   "metadata": {
    "execution": {
     "iopub.execute_input": "2023-06-13T09:52:55.848559Z",
     "iopub.status.busy": "2023-06-13T09:52:55.848267Z",
     "iopub.status.idle": "2023-06-13T09:52:55.860369Z",
     "shell.execute_reply": "2023-06-13T09:52:55.859366Z"
    },
    "papermill": {
     "duration": 0.018033,
     "end_time": "2023-06-13T09:52:55.863010",
     "exception": false,
     "start_time": "2023-06-13T09:52:55.844977",
     "status": "completed"
    },
    "tags": []
   },
   "outputs": [
    {
     "name": "stdout",
     "output_type": "stream",
     "text": [
      "/kaggle/working\n",
      "['__notebook__.ipynb']\n"
     ]
    }
   ],
   "source": [
    "import os\n",
    "print(os.getcwd())\n",
    "print(os.listdir(os.getcwd()))"
   ]
  },
  {
   "cell_type": "code",
   "execution_count": 3,
   "id": "022b9471",
   "metadata": {
    "execution": {
     "iopub.execute_input": "2023-06-13T09:52:55.868725Z",
     "iopub.status.busy": "2023-06-13T09:52:55.868455Z",
     "iopub.status.idle": "2023-06-13T09:52:55.879283Z",
     "shell.execute_reply": "2023-06-13T09:52:55.878361Z"
    },
    "papermill": {
     "duration": 0.016128,
     "end_time": "2023-06-13T09:52:55.881464",
     "exception": false,
     "start_time": "2023-06-13T09:52:55.865336",
     "status": "completed"
    },
    "tags": []
   },
   "outputs": [
    {
     "name": "stdout",
     "output_type": "stream",
     "text": [
      "current working directory is /kaggle/input/personreid\n",
      "/kaggle/input/personreid\n",
      "['train.py', 'losses.py', 'README.md', 'models', 'data_prepare.py']\n"
     ]
    }
   ],
   "source": [
    "\"\"\" change working directory \"\"\"\n",
    "import os\n",
    "\n",
    "if os.path.basename(os.getcwd()) == 'working':\n",
    "    os.chdir('../input/personreid')\n",
    "print('current working directory is {}'.format(os.getcwd()))\n",
    "\n",
    "print(os.getcwd())\n",
    "print(os.listdir(os.getcwd()))\n",
    "\n"
   ]
  },
  {
   "cell_type": "code",
   "execution_count": 4,
   "id": "6bf85814",
   "metadata": {
    "execution": {
     "iopub.execute_input": "2023-06-13T09:52:55.887281Z",
     "iopub.status.busy": "2023-06-13T09:52:55.886943Z",
     "iopub.status.idle": "2023-06-13T10:29:57.614378Z",
     "shell.execute_reply": "2023-06-13T10:29:57.613199Z"
    },
    "papermill": {
     "duration": 2221.733264,
     "end_time": "2023-06-13T10:29:57.617020",
     "exception": false,
     "start_time": "2023-06-13T09:52:55.883756",
     "status": "completed"
    },
    "tags": []
   },
   "outputs": [
    {
     "name": "stdout",
     "output_type": "stream",
     "text": [
      "数据集已创建，无需再次创建\r\n",
      "<function is_available at 0x7a8aeab0d510>\r\n",
      "Currently using GPU 0\r\n",
      "[Resize(size=(256, 128), interpolation=bicubic, max_size=None, antialias=warn), Pad(padding=10, fill=0, padding_mode=constant), RandomCrop(size=(256, 128), padding=None), RandomHorizontalFlip(p=0.5), ToTensor(), Normalize(mean=[0.485, 0.456, 0.406], std=[0.229, 0.224, 0.225])]\r\n",
      "Epoch 0/149\r\n",
      "----------\r\n",
      "train Loss: 0.1157 Acc: 0.0424\r\n",
      "val Loss: 0.1124 Acc: 0.0008\r\n",
      "\r\n",
      "Epoch 1/149\r\n",
      "----------\r\n",
      "train Loss: 0.0834 Acc: 0.2091\r\n",
      "val Loss: 0.1118 Acc: 0.0009\r\n",
      "\r\n",
      "Epoch 2/149\r\n",
      "----------\r\n",
      "train Loss: 0.0632 Acc: 0.4251\r\n",
      "val Loss: 0.1122 Acc: 0.0006\r\n",
      "\r\n",
      "Epoch 3/149\r\n",
      "----------\r\n",
      "train Loss: 0.0503 Acc: 0.5969\r\n",
      "val Loss: 0.1126 Acc: 0.0006\r\n",
      "\r\n",
      "Epoch 4/149\r\n",
      "----------\r\n",
      "train Loss: 0.0418 Acc: 0.7187\r\n",
      "val Loss: 0.1125 Acc: 0.0004\r\n",
      "\r\n",
      "Epoch 5/149\r\n",
      "----------\r\n",
      "train Loss: 0.0362 Acc: 0.8009\r\n",
      "val Loss: 0.1129 Acc: 0.0012\r\n",
      "\r\n",
      "Epoch 6/149\r\n",
      "----------\r\n",
      "train Loss: 0.0322 Acc: 0.8653\r\n",
      "val Loss: 0.1133 Acc: 0.0007\r\n",
      "\r\n",
      "Epoch 7/149\r\n",
      "----------\r\n",
      "train Loss: 0.0294 Acc: 0.9178\r\n",
      "val Loss: 0.1131 Acc: 0.0004\r\n",
      "\r\n",
      "Epoch 8/149\r\n",
      "----------\r\n",
      "train Loss: 0.0274 Acc: 0.9492\r\n",
      "val Loss: 0.1131 Acc: 0.0004\r\n",
      "\r\n",
      "Epoch 9/149\r\n",
      "----------\r\n",
      "train Loss: 0.0259 Acc: 0.9712\r\n",
      "val Loss: 0.1129 Acc: 0.0007\r\n",
      "Traceback (most recent call last):\r\n",
      "  File \"/kaggle/input/personreid/train.py\", line 227, in <module>\r\n",
      "    model = train_model(model, criterion, optimizer_ft, exp_lr_scheduler,\r\n",
      "  File \"/kaggle/input/personreid/train.py\", line 166, in train_model\r\n",
      "    save_network(model, epoch)\r\n",
      "  File \"/kaggle/input/personreid/train.py\", line 190, in save_network\r\n",
      "    torch.save(network.cpu().state_dict(), save_path)\r\n",
      "  File \"/opt/conda/lib/python3.10/site-packages/torch/serialization.py\", line 440, in save\r\n",
      "    with _open_zipfile_writer(f) as opened_zipfile:\r\n",
      "  File \"/opt/conda/lib/python3.10/site-packages/torch/serialization.py\", line 315, in _open_zipfile_writer\r\n",
      "    return container(name_or_buffer)\r\n",
      "  File \"/opt/conda/lib/python3.10/site-packages/torch/serialization.py\", line 288, in __init__\r\n",
      "    super().__init__(torch._C.PyTorchFileWriter(str(name)))\r\n",
      "RuntimeError: File ../model/net_9.pth cannot be opened.\r\n"
     ]
    }
   ],
   "source": [
    "!python train.py --train_all"
   ]
  },
  {
   "cell_type": "code",
   "execution_count": 5,
   "id": "69d971a0",
   "metadata": {
    "execution": {
     "iopub.execute_input": "2023-06-13T10:29:57.628957Z",
     "iopub.status.busy": "2023-06-13T10:29:57.627389Z",
     "iopub.status.idle": "2023-06-13T10:29:57.634205Z",
     "shell.execute_reply": "2023-06-13T10:29:57.633131Z"
    },
    "papermill": {
     "duration": 0.014695,
     "end_time": "2023-06-13T10:29:57.636344",
     "exception": false,
     "start_time": "2023-06-13T10:29:57.621649",
     "status": "completed"
    },
    "tags": []
   },
   "outputs": [
    {
     "name": "stdout",
     "output_type": "stream",
     "text": [
      "over\n"
     ]
    }
   ],
   "source": [
    "print('over')"
   ]
  }
 ],
 "metadata": {
  "kernelspec": {
   "display_name": "Python 3",
   "language": "python",
   "name": "python3"
  },
  "language_info": {
   "codemirror_mode": {
    "name": "ipython",
    "version": 3
   },
   "file_extension": ".py",
   "mimetype": "text/x-python",
   "name": "python",
   "nbconvert_exporter": "python",
   "pygments_lexer": "ipython3",
   "version": "3.10.10"
  },
  "papermill": {
   "default_parameters": {},
   "duration": 2234.178994,
   "end_time": "2023-06-13T10:29:58.366637",
   "environment_variables": {},
   "exception": null,
   "input_path": "__notebook__.ipynb",
   "output_path": "__notebook__.ipynb",
   "parameters": {},
   "start_time": "2023-06-13T09:52:44.187643",
   "version": "2.4.0"
  }
 },
 "nbformat": 4,
 "nbformat_minor": 5
}
