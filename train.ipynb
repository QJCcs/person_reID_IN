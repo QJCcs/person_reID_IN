{
 "cells": [
  {
   "cell_type": "code",
   "execution_count": 1,
   "id": "5a280fc1",
   "metadata": {
    "execution": {
     "iopub.execute_input": "2023-06-13T13:16:14.117758Z",
     "iopub.status.busy": "2023-06-13T13:16:14.117257Z",
     "iopub.status.idle": "2023-06-13T13:16:14.122460Z",
     "shell.execute_reply": "2023-06-13T13:16:14.121580Z"
    },
    "papermill": {
     "duration": 0.014386,
     "end_time": "2023-06-13T13:16:14.126821",
     "exception": false,
     "start_time": "2023-06-13T13:16:14.112435",
     "status": "completed"
    },
    "tags": []
   },
   "outputs": [],
   "source": [
    "#!git clone -b main https://github.com/QJCcs/person_reID_IN.git\n"
   ]
  },
  {
   "cell_type": "code",
   "execution_count": 2,
   "id": "87f5d52c",
   "metadata": {
    "execution": {
     "iopub.execute_input": "2023-06-13T13:16:14.132839Z",
     "iopub.status.busy": "2023-06-13T13:16:14.132240Z",
     "iopub.status.idle": "2023-06-13T13:16:14.143442Z",
     "shell.execute_reply": "2023-06-13T13:16:14.142582Z"
    },
    "papermill": {
     "duration": 0.01671,
     "end_time": "2023-06-13T13:16:14.145938",
     "exception": false,
     "start_time": "2023-06-13T13:16:14.129228",
     "status": "completed"
    },
    "tags": []
   },
   "outputs": [
    {
     "name": "stdout",
     "output_type": "stream",
     "text": [
      "/kaggle/working\n",
      "['__notebook__.ipynb']\n"
     ]
    }
   ],
   "source": [
    "import os\n",
    "print(os.getcwd())\n",
    "print(os.listdir(os.getcwd()))\n"
   ]
  },
  {
   "cell_type": "code",
   "execution_count": 3,
   "id": "5238a790",
   "metadata": {
    "execution": {
     "iopub.execute_input": "2023-06-13T13:16:14.151862Z",
     "iopub.status.busy": "2023-06-13T13:16:14.151120Z",
     "iopub.status.idle": "2023-06-13T13:16:14.163308Z",
     "shell.execute_reply": "2023-06-13T13:16:14.162059Z"
    },
    "papermill": {
     "duration": 0.01716,
     "end_time": "2023-06-13T13:16:14.165281",
     "exception": false,
     "start_time": "2023-06-13T13:16:14.148121",
     "status": "completed"
    },
    "tags": []
   },
   "outputs": [
    {
     "name": "stdout",
     "output_type": "stream",
     "text": [
      "current working directory is /kaggle/input/personreid\n",
      "/kaggle/input/personreid\n",
      "['train.py', 'losses.py', 'README.md', 'models', 'data_prepare.py']\n"
     ]
    }
   ],
   "source": [
    "\"\"\" change working directory \"\"\"\n",
    "import os\n",
    "\n",
    "if os.path.basename(os.getcwd()) == 'working':\n",
    "    if not os.path.exists('/kaggle/working/model'):\n",
    "        os.mkdir('/kaggle/working/model')\n",
    "    os.chdir('../input/personreid')\n",
    "print('current working directory is {}'.format(os.getcwd()))\n",
    "\n",
    "print(os.getcwd())\n",
    "print(os.listdir(os.getcwd()))\n",
    "\n"
   ]
  },
  {
   "cell_type": "code",
   "execution_count": 4,
   "id": "2c481861",
   "metadata": {
    "execution": {
     "iopub.execute_input": "2023-06-13T13:16:14.171612Z",
     "iopub.status.busy": "2023-06-13T13:16:14.170823Z",
     "iopub.status.idle": "2023-06-13T13:26:49.748500Z",
     "shell.execute_reply": "2023-06-13T13:26:49.747295Z"
    },
    "papermill": {
     "duration": 635.583479,
     "end_time": "2023-06-13T13:26:49.751054",
     "exception": false,
     "start_time": "2023-06-13T13:16:14.167575",
     "status": "completed"
    },
    "tags": []
   },
   "outputs": [
    {
     "name": "stdout",
     "output_type": "stream",
     "text": [
      "数据集已创建，无需再次创建\r\n",
      "<function is_available at 0x7e8f09b15510>\r\n",
      "Currently using GPU 0\r\n",
      "[Resize(size=(256, 128), interpolation=bicubic, max_size=None, antialias=warn), Pad(padding=10, fill=0, padding_mode=constant), RandomCrop(size=(256, 128), padding=None), RandomHorizontalFlip(p=0.5), ToTensor(), Normalize(mean=[0.485, 0.456, 0.406], std=[0.229, 0.224, 0.225])]\r\n",
      "Epoch 0/99\r\n",
      "----------\r\n",
      "train Loss: 0.1134 Acc: 0.0521\r\n",
      "val Loss: 0.1110 Acc: 0.0012\r\n",
      "\r\n",
      "Epoch 1/99\r\n",
      "----------\r\n",
      "train Loss: 0.0798 Acc: 0.2417\r\n",
      "val Loss: 0.1114 Acc: 0.0009\r\n",
      "Traceback (most recent call last):\r\n",
      "  File \"/kaggle/input/personreid/train.py\", line 232, in <module>\r\n",
      "    model = train_model(model, criterion, optimizer_ft, exp_lr_scheduler,\r\n",
      "  File \"/kaggle/input/personreid/train.py\", line 166, in train_model\r\n",
      "    save_network(model, epoch)\r\n",
      "  File \"/kaggle/input/personreid/train.py\", line 191, in save_network\r\n",
      "    torch.save(network.cpu().state_dict(), save_path)\r\n",
      "  File \"/opt/conda/lib/python3.10/site-packages/torch/serialization.py\", line 440, in save\r\n",
      "    with _open_zipfile_writer(f) as opened_zipfile:\r\n",
      "  File \"/opt/conda/lib/python3.10/site-packages/torch/serialization.py\", line 315, in _open_zipfile_writer\r\n",
      "    return container(name_or_buffer)\r\n",
      "  File \"/opt/conda/lib/python3.10/site-packages/torch/serialization.py\", line 288, in __init__\r\n",
      "    super().__init__(torch._C.PyTorchFileWriter(str(name)))\r\n",
      "RuntimeError: Parent directory /kernel/working/model does not exist.\r\n"
     ]
    }
   ],
   "source": [
    "!python train.py --train_all"
   ]
  },
  {
   "cell_type": "code",
   "execution_count": 5,
   "id": "d5699583",
   "metadata": {
    "execution": {
     "iopub.execute_input": "2023-06-13T13:26:49.759202Z",
     "iopub.status.busy": "2023-06-13T13:26:49.758398Z",
     "iopub.status.idle": "2023-06-13T13:26:49.763620Z",
     "shell.execute_reply": "2023-06-13T13:26:49.762815Z"
    },
    "papermill": {
     "duration": 0.011495,
     "end_time": "2023-06-13T13:26:49.765663",
     "exception": false,
     "start_time": "2023-06-13T13:26:49.754168",
     "status": "completed"
    },
    "tags": []
   },
   "outputs": [
    {
     "name": "stdout",
     "output_type": "stream",
     "text": [
      "over\n"
     ]
    }
   ],
   "source": [
    "print('over')"
   ]
  }
 ],
 "metadata": {
  "kernelspec": {
   "display_name": "Python 3",
   "language": "python",
   "name": "python3"
  },
  "language_info": {
   "codemirror_mode": {
    "name": "ipython",
    "version": 3
   },
   "file_extension": ".py",
   "mimetype": "text/x-python",
   "name": "python",
   "nbconvert_exporter": "python",
   "pygments_lexer": "ipython3",
   "version": "3.10.10"
  },
  "papermill": {
   "default_parameters": {},
   "duration": 647.423573,
   "end_time": "2023-06-13T13:26:50.489272",
   "environment_variables": {},
   "exception": null,
   "input_path": "__notebook__.ipynb",
   "output_path": "__notebook__.ipynb",
   "parameters": {},
   "start_time": "2023-06-13T13:16:03.065699",
   "version": "2.4.0"
  }
 },
 "nbformat": 4,
 "nbformat_minor": 5
}
